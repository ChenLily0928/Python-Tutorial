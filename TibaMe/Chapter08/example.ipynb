{
 "cells": [
  {
   "cell_type": "markdown",
   "metadata": {},
   "source": [
    "# Basic Keras"
   ]
  },
  {
   "cell_type": "code",
   "execution_count": 1,
   "metadata": {},
   "outputs": [
    {
     "name": "stderr",
     "output_type": "stream",
     "text": [
      "Using TensorFlow backend.\n"
     ]
    }
   ],
   "source": [
    "import tensorflow as tf\n",
    "import numpy as np\n",
    "\n",
    "from keras.models import Sequential\n",
    "from keras.layers.core import Dense, Activation\n",
    "from keras.utils import np_utils"
   ]
  },
  {
   "cell_type": "code",
   "execution_count": 2,
   "metadata": {},
   "outputs": [
    {
     "name": "stdout",
     "output_type": "stream",
     "text": [
      "Model: \"sequential_1\"\n",
      "_________________________________________________________________\n",
      "Layer (type)                 Output Shape              Param #   \n",
      "=================================================================\n",
      "dense_1 (Dense)              (None, 3)                 9         \n",
      "_________________________________________________________________\n",
      "activation_1 (Activation)    (None, 3)                 0         \n",
      "_________________________________________________________________\n",
      "dense_2 (Dense)              (None, 3)                 12        \n",
      "_________________________________________________________________\n",
      "activation_2 (Activation)    (None, 3)                 0         \n",
      "_________________________________________________________________\n",
      "dense_3 (Dense)              (None, 2)                 8         \n",
      "_________________________________________________________________\n",
      "activation_3 (Activation)    (None, 2)                 0         \n",
      "=================================================================\n",
      "Total params: 29\n",
      "Trainable params: 29\n",
      "Non-trainable params: 0\n",
      "_________________________________________________________________\n",
      "Epoch 1/100\n",
      "4/4 [==============================] - 0s 31ms/step - loss: 0.7043 - accuracy: 0.5000\n",
      "Epoch 2/100\n",
      "4/4 [==============================] - 0s 499us/step - loss: 0.7041 - accuracy: 0.0000e+00\n",
      "Epoch 3/100\n",
      "4/4 [==============================] - 0s 748us/step - loss: 0.7038 - accuracy: 0.0000e+00\n",
      "Epoch 4/100\n",
      "4/4 [==============================] - 0s 748us/step - loss: 0.7035 - accuracy: 0.0000e+00\n",
      "Epoch 5/100\n",
      "4/4 [==============================] - 0s 249us/step - loss: 0.7033 - accuracy: 0.2500\n",
      "Epoch 6/100\n",
      "4/4 [==============================] - 0s 499us/step - loss: 0.7030 - accuracy: 0.2500\n",
      "Epoch 7/100\n",
      "4/4 [==============================] - 0s 748us/step - loss: 0.7027 - accuracy: 0.2500\n",
      "Epoch 8/100\n",
      "4/4 [==============================] - 0s 499us/step - loss: 0.7025 - accuracy: 0.2500\n",
      "Epoch 9/100\n",
      "4/4 [==============================] - 0s 499us/step - loss: 0.7022 - accuracy: 0.2500\n",
      "Epoch 10/100\n",
      "4/4 [==============================] - 0s 499us/step - loss: 0.7019 - accuracy: 0.2500\n",
      "Epoch 11/100\n",
      "4/4 [==============================] - 0s 499us/step - loss: 0.7017 - accuracy: 0.2500\n",
      "Epoch 12/100\n",
      "4/4 [==============================] - 0s 498us/step - loss: 0.7014 - accuracy: 0.2500\n",
      "Epoch 13/100\n",
      "4/4 [==============================] - 0s 748us/step - loss: 0.7012 - accuracy: 0.2500\n",
      "Epoch 14/100\n",
      "4/4 [==============================] - 0s 997us/step - loss: 0.7010 - accuracy: 0.2500\n",
      "Epoch 15/100\n",
      "4/4 [==============================] - 0s 499us/step - loss: 0.7008 - accuracy: 0.2500\n",
      "Epoch 16/100\n",
      "4/4 [==============================] - 0s 499us/step - loss: 0.7006 - accuracy: 0.2500\n",
      "Epoch 17/100\n",
      "4/4 [==============================] - 0s 250us/step - loss: 0.7004 - accuracy: 0.2500\n",
      "Epoch 18/100\n",
      "4/4 [==============================] - 0s 499us/step - loss: 0.7003 - accuracy: 0.2500\n",
      "Epoch 19/100\n",
      "4/4 [==============================] - 0s 249us/step - loss: 0.7001 - accuracy: 0.2500\n",
      "Epoch 20/100\n",
      "4/4 [==============================] - 0s 499us/step - loss: 0.6999 - accuracy: 0.2500\n",
      "Epoch 21/100\n",
      "4/4 [==============================] - 0s 499us/step - loss: 0.6998 - accuracy: 0.2500\n",
      "Epoch 22/100\n",
      "4/4 [==============================] - 0s 249us/step - loss: 0.6996 - accuracy: 0.2500\n",
      "Epoch 23/100\n",
      "4/4 [==============================] - 0s 499us/step - loss: 0.6995 - accuracy: 0.2500\n",
      "Epoch 24/100\n",
      "4/4 [==============================] - 0s 748us/step - loss: 0.6993 - accuracy: 0.2500\n",
      "Epoch 25/100\n",
      "4/4 [==============================] - 0s 498us/step - loss: 0.6992 - accuracy: 0.2500\n",
      "Epoch 26/100\n",
      "4/4 [==============================] - 0s 499us/step - loss: 0.6991 - accuracy: 0.2500\n",
      "Epoch 27/100\n",
      "4/4 [==============================] - 0s 499us/step - loss: 0.6989 - accuracy: 0.2500\n",
      "Epoch 28/100\n",
      "4/4 [==============================] - 0s 998us/step - loss: 0.6988 - accuracy: 0.2500\n",
      "Epoch 29/100\n",
      "4/4 [==============================] - 0s 499us/step - loss: 0.6986 - accuracy: 0.2500\n",
      "Epoch 30/100\n",
      "4/4 [==============================] - 0s 499us/step - loss: 0.6985 - accuracy: 0.2500\n",
      "Epoch 31/100\n",
      "4/4 [==============================] - 0s 499us/step - loss: 0.6984 - accuracy: 0.2500\n",
      "Epoch 32/100\n",
      "4/4 [==============================] - 0s 748us/step - loss: 0.6983 - accuracy: 0.2500\n",
      "Epoch 33/100\n",
      "4/4 [==============================] - 0s 499us/step - loss: 0.6981 - accuracy: 0.2500\n",
      "Epoch 34/100\n",
      "4/4 [==============================] - 0s 499us/step - loss: 0.6980 - accuracy: 0.2500\n",
      "Epoch 35/100\n",
      "4/4 [==============================] - 0s 499us/step - loss: 0.6979 - accuracy: 0.2500\n",
      "Epoch 36/100\n",
      "4/4 [==============================] - 0s 499us/step - loss: 0.6978 - accuracy: 0.2500\n",
      "Epoch 37/100\n",
      "4/4 [==============================] - 0s 499us/step - loss: 0.6977 - accuracy: 0.2500\n",
      "Epoch 38/100\n",
      "4/4 [==============================] - 0s 498us/step - loss: 0.6975 - accuracy: 0.2500\n",
      "Epoch 39/100\n",
      "4/4 [==============================] - 0s 499us/step - loss: 0.6974 - accuracy: 0.2500\n",
      "Epoch 40/100\n",
      "4/4 [==============================] - 0s 498us/step - loss: 0.6973 - accuracy: 0.2500\n",
      "Epoch 41/100\n",
      "4/4 [==============================] - 0s 498us/step - loss: 0.6972 - accuracy: 0.2500\n",
      "Epoch 42/100\n",
      "4/4 [==============================] - 0s 499us/step - loss: 0.6971 - accuracy: 0.2500\n",
      "Epoch 43/100\n",
      "4/4 [==============================] - 0s 499us/step - loss: 0.6970 - accuracy: 0.2500\n",
      "Epoch 44/100\n",
      "4/4 [==============================] - 0s 249us/step - loss: 0.6969 - accuracy: 0.2500\n",
      "Epoch 45/100\n",
      "4/4 [==============================] - 0s 748us/step - loss: 0.6968 - accuracy: 0.2500\n",
      "Epoch 46/100\n",
      "4/4 [==============================] - 0s 997us/step - loss: 0.6967 - accuracy: 0.2500\n",
      "Epoch 47/100\n",
      "4/4 [==============================] - 0s 499us/step - loss: 0.6966 - accuracy: 0.2500\n",
      "Epoch 48/100\n",
      "4/4 [==============================] - 0s 749us/step - loss: 0.6965 - accuracy: 0.2500\n",
      "Epoch 49/100\n",
      "4/4 [==============================] - 0s 499us/step - loss: 0.6964 - accuracy: 0.2500\n",
      "Epoch 50/100\n",
      "4/4 [==============================] - 0s 499us/step - loss: 0.6963 - accuracy: 0.2500\n",
      "Epoch 51/100\n",
      "4/4 [==============================] - 0s 499us/step - loss: 0.6962 - accuracy: 0.2500\n",
      "Epoch 52/100\n",
      "4/4 [==============================] - 0s 499us/step - loss: 0.6961 - accuracy: 0.2500\n",
      "Epoch 53/100\n",
      "4/4 [==============================] - 0s 499us/step - loss: 0.6961 - accuracy: 0.2500\n",
      "Epoch 54/100\n",
      "4/4 [==============================] - 0s 249us/step - loss: 0.6960 - accuracy: 0.2500\n",
      "Epoch 55/100\n",
      "4/4 [==============================] - 0s 748us/step - loss: 0.6959 - accuracy: 0.2500\n",
      "Epoch 56/100\n",
      "4/4 [==============================] - 0s 499us/step - loss: 0.6958 - accuracy: 0.2500\n",
      "Epoch 57/100\n",
      "4/4 [==============================] - 0s 498us/step - loss: 0.6957 - accuracy: 0.2500\n",
      "Epoch 58/100\n",
      "4/4 [==============================] - 0s 499us/step - loss: 0.6957 - accuracy: 0.2500\n",
      "Epoch 59/100\n",
      "4/4 [==============================] - 0s 499us/step - loss: 0.6956 - accuracy: 0.2500\n",
      "Epoch 60/100\n",
      "4/4 [==============================] - 0s 499us/step - loss: 0.6955 - accuracy: 0.2500\n",
      "Epoch 61/100\n",
      "4/4 [==============================] - 0s 499us/step - loss: 0.6954 - accuracy: 0.2500\n",
      "Epoch 62/100\n",
      "4/4 [==============================] - 0s 499us/step - loss: 0.6954 - accuracy: 0.2500\n",
      "Epoch 63/100\n",
      "4/4 [==============================] - 0s 499us/step - loss: 0.6953 - accuracy: 0.2500\n",
      "Epoch 64/100\n",
      "4/4 [==============================] - 0s 998us/step - loss: 0.6952 - accuracy: 0.2500\n",
      "Epoch 65/100\n",
      "4/4 [==============================] - 0s 497us/step - loss: 0.6952 - accuracy: 0.2500\n",
      "Epoch 66/100\n",
      "4/4 [==============================] - 0s 499us/step - loss: 0.6951 - accuracy: 0.2500\n",
      "Epoch 67/100\n",
      "4/4 [==============================] - 0s 498us/step - loss: 0.6950 - accuracy: 0.2500\n",
      "Epoch 68/100\n",
      "4/4 [==============================] - 0s 499us/step - loss: 0.6950 - accuracy: 0.2500\n",
      "Epoch 69/100\n",
      "4/4 [==============================] - 0s 499us/step - loss: 0.6949 - accuracy: 0.2500\n",
      "Epoch 70/100\n",
      "4/4 [==============================] - 0s 499us/step - loss: 0.6948 - accuracy: 0.2500\n",
      "Epoch 71/100\n",
      "4/4 [==============================] - 0s 499us/step - loss: 0.6948 - accuracy: 0.2500\n"
     ]
    },
    {
     "name": "stdout",
     "output_type": "stream",
     "text": [
      "Epoch 72/100\n",
      "4/4 [==============================] - 0s 250us/step - loss: 0.6947 - accuracy: 0.2500\n",
      "Epoch 73/100\n",
      "4/4 [==============================] - 0s 499us/step - loss: 0.6947 - accuracy: 0.2500\n",
      "Epoch 74/100\n",
      "4/4 [==============================] - 0s 499us/step - loss: 0.6946 - accuracy: 0.2500\n",
      "Epoch 75/100\n",
      "4/4 [==============================] - 0s 250us/step - loss: 0.6946 - accuracy: 0.2500\n",
      "Epoch 76/100\n",
      "4/4 [==============================] - 0s 498us/step - loss: 0.6945 - accuracy: 0.2500\n",
      "Epoch 77/100\n",
      "4/4 [==============================] - 0s 249us/step - loss: 0.6945 - accuracy: 0.2500\n",
      "Epoch 78/100\n",
      "4/4 [==============================] - 0s 499us/step - loss: 0.6944 - accuracy: 0.2500\n",
      "Epoch 79/100\n",
      "4/4 [==============================] - 0s 997us/step - loss: 0.6944 - accuracy: 0.2500\n",
      "Epoch 80/100\n",
      "4/4 [==============================] - 0s 498us/step - loss: 0.6943 - accuracy: 0.2500\n",
      "Epoch 81/100\n",
      "4/4 [==============================] - 0s 2ms/step - loss: 0.6943 - accuracy: 0.2500\n",
      "Epoch 82/100\n",
      "4/4 [==============================] - 0s 1ms/step - loss: 0.6942 - accuracy: 0.2500\n",
      "Epoch 83/100\n",
      "4/4 [==============================] - 0s 748us/step - loss: 0.6942 - accuracy: 0.2500\n",
      "Epoch 84/100\n",
      "4/4 [==============================] - 0s 749us/step - loss: 0.6941 - accuracy: 0.2500\n",
      "Epoch 85/100\n",
      "4/4 [==============================] - 0s 499us/step - loss: 0.6941 - accuracy: 0.2500\n",
      "Epoch 86/100\n",
      "4/4 [==============================] - 0s 499us/step - loss: 0.6940 - accuracy: 0.2500\n",
      "Epoch 87/100\n",
      "4/4 [==============================] - 0s 748us/step - loss: 0.6940 - accuracy: 0.2500\n",
      "Epoch 88/100\n",
      "4/4 [==============================] - 0s 748us/step - loss: 0.6940 - accuracy: 0.2500\n",
      "Epoch 89/100\n",
      "4/4 [==============================] - 0s 499us/step - loss: 0.6939 - accuracy: 0.2500\n",
      "Epoch 90/100\n",
      "4/4 [==============================] - 0s 499us/step - loss: 0.6939 - accuracy: 0.2500\n",
      "Epoch 91/100\n",
      "4/4 [==============================] - 0s 499us/step - loss: 0.6938 - accuracy: 0.2500\n",
      "Epoch 92/100\n",
      "4/4 [==============================] - 0s 499us/step - loss: 0.6938 - accuracy: 0.2500\n",
      "Epoch 93/100\n",
      "4/4 [==============================] - 0s 499us/step - loss: 0.6938 - accuracy: 0.2500\n",
      "Epoch 94/100\n",
      "4/4 [==============================] - 0s 499us/step - loss: 0.6937 - accuracy: 0.2500\n",
      "Epoch 95/100\n",
      "4/4 [==============================] - 0s 499us/step - loss: 0.6937 - accuracy: 0.2500\n",
      "Epoch 96/100\n",
      "4/4 [==============================] - 0s 498us/step - loss: 0.6936 - accuracy: 0.2500\n",
      "Epoch 97/100\n",
      "4/4 [==============================] - 0s 249us/step - loss: 0.6936 - accuracy: 0.2500\n",
      "Epoch 98/100\n",
      "4/4 [==============================] - 0s 498us/step - loss: 0.6936 - accuracy: 0.2500\n",
      "Epoch 99/100\n",
      "4/4 [==============================] - 0s 499us/step - loss: 0.6935 - accuracy: 0.2500\n",
      "Epoch 100/100\n",
      "4/4 [==============================] - 0s 498us/step - loss: 0.6935 - accuracy: 0.2500\n"
     ]
    }
   ],
   "source": [
    "#preparing data for Exclusive OR (XOR)\n",
    "\n",
    "attributes = [\n",
    "    #x1, x2\n",
    "    [0 ,0]\n",
    "  , [0, 1]\n",
    "  , [1, 0]\n",
    "  , [1, 1]\n",
    "]\n",
    "\n",
    "labels = [\n",
    "    #is_0, is_1 -> only a column can be 1 in labels variable\n",
    "    [1, 0] \n",
    "  , [0, 1]\n",
    "  , [0, 1]\n",
    "  , [1, 0]\n",
    "]\n",
    "\n",
    "#transforming attributes and labels matrixes to numpy\n",
    "data = np.array(attributes, 'int64')\n",
    "target = np.array(labels, 'int64')\n",
    "\n",
    "\n",
    "# creating model\n",
    "\n",
    "model = Sequential()\n",
    "\n",
    "\n",
    "#  input layer to 1st hidden layer\n",
    "model.add(Dense(units=3 , input_shape=(2,))) #num of features in input layer\n",
    "\n",
    "# Dense default setting:\n",
    "# kernel_initializer='glorot_uniform', bias_initializer='zeros'\n",
    "# common kernel_initializer: 'glorot_uniform'/\n",
    "\n",
    "model.add(Activation('relu')) #activation function from input layer to 1st hidden layer\n",
    "# common activation: 'relu'/'sigmoid'/'tanh'/'LeakyReLU'\n",
    "\n",
    "# 1st hidden layer to 2end hidden layer\n",
    "model.add(Dense(units=3))\n",
    "model.add(Activation('relu')) #activation function from 1st hidden layer to 2end hidden layer\n",
    "\n",
    "\n",
    "# 2end hidden layer to output layer\n",
    "model.add(Dense(units=2)) # num of classes in output layer\n",
    "model.add(Activation('softmax')) # activation function from 2end hidden layer to output layer\n",
    "\n",
    "# summary model\n",
    "model.summary()\n",
    "\n",
    "#compile\n",
    "model.compile(loss='categorical_crossentropy', optimizer='adam', metrics=['accuracy'])\n",
    "\n",
    "# different setting on compile\n",
    "# loss='mean_squared_error'/'categorical_crossentropy'/'binary_crossentropy'\n",
    "# optimizer='sgd'/'adam'/'rmsprop'\n",
    "# metrics='accuracy'/'mse'\n",
    "\n",
    "#training\n",
    "score = model.fit(data, target, epochs=100)\n",
    "#verbose: 0, 1 或 2。日志显示模式。 0 = 安静模式, 1 = 进度条, 2 = 每轮一行。"
   ]
  },
  {
   "cell_type": "markdown",
   "metadata": {},
   "source": [
    "Loss function:  \n",
    "binary_crossentropy (2 classes)  \n",
    "categorical_crossentropy (>2 classes)  "
   ]
  },
  {
   "cell_type": "markdown",
   "metadata": {},
   "source": [
    "## MNIST\n",
    "MNIST is a computer vision dataset. It consists of black and white images from zero to nine. Each image is 28 * 28 and have been flatten to 784 dimension vector. Also, it includes labels for each image, telling us which digit it is.\n",
    "\n",
    "![Alt text](./images/dnn_implement/Selection_017.png)\n",
    "![Alt text](./images/dnn_implement/Selection_018.png)\n",
    "\n"
   ]
  },
  {
   "cell_type": "markdown",
   "metadata": {},
   "source": [
    "# MNIST Dataset - training and save model"
   ]
  },
  {
   "cell_type": "code",
   "execution_count": 2,
   "metadata": {},
   "outputs": [
    {
     "name": "stdout",
     "output_type": "stream",
     "text": [
      "(60000, 28, 28)\n",
      "(60000,)\n"
     ]
    }
   ],
   "source": [
    "import numpy as np\n",
    "from keras.datasets import mnist\n",
    "from keras.models import Sequential\n",
    "from keras.layers import Dense\n",
    "from keras.utils import to_categorical\n",
    "\n",
    "(train_images, train_labels), (test_images, test_labels) = mnist.load_data()\n",
    "print(train_images.shape)\n",
    "print(train_labels.shape)"
   ]
  },
  {
   "cell_type": "code",
   "execution_count": 3,
   "metadata": {},
   "outputs": [
    {
     "name": "stdout",
     "output_type": "stream",
     "text": [
      "[[  0   0   0   0   0   0   0   0   0   0   0   0   0   0   0   0   0   0\n",
      "    0   0   0   0   0   0   0   0   0   0]\n",
      " [  0   0   0   0   0   0   0   0   0   0   0   0   0   0   0   0   0   0\n",
      "    0   0   0   0   0   0   0   0   0   0]\n",
      " [  0   0   0   0   0   0   0   0   0   0   0   0   0   0   0   0   0   0\n",
      "    0   0   0   0   0   0   0   0   0   0]\n",
      " [  0   0   0   0   0   0   0   0   0   0   0   0   0   0   0   0   0   0\n",
      "    0   0   0   0   0   0   0   0   0   0]\n",
      " [  0   0   0   0   0   0   0   0   0   0   0   0   0   0   0   0   0   0\n",
      "    0   0   0   0   0   0   0   0   0   0]\n",
      " [  0   0   0   0   0   0   0   0   0   0   0   0   3  18  18  18 126 136\n",
      "  175  26 166 255 247 127   0   0   0   0]\n",
      " [  0   0   0   0   0   0   0   0  30  36  94 154 170 253 253 253 253 253\n",
      "  225 172 253 242 195  64   0   0   0   0]\n",
      " [  0   0   0   0   0   0   0  49 238 253 253 253 253 253 253 253 253 251\n",
      "   93  82  82  56  39   0   0   0   0   0]\n",
      " [  0   0   0   0   0   0   0  18 219 253 253 253 253 253 198 182 247 241\n",
      "    0   0   0   0   0   0   0   0   0   0]\n",
      " [  0   0   0   0   0   0   0   0  80 156 107 253 253 205  11   0  43 154\n",
      "    0   0   0   0   0   0   0   0   0   0]\n",
      " [  0   0   0   0   0   0   0   0   0  14   1 154 253  90   0   0   0   0\n",
      "    0   0   0   0   0   0   0   0   0   0]\n",
      " [  0   0   0   0   0   0   0   0   0   0   0 139 253 190   2   0   0   0\n",
      "    0   0   0   0   0   0   0   0   0   0]\n",
      " [  0   0   0   0   0   0   0   0   0   0   0  11 190 253  70   0   0   0\n",
      "    0   0   0   0   0   0   0   0   0   0]\n",
      " [  0   0   0   0   0   0   0   0   0   0   0   0  35 241 225 160 108   1\n",
      "    0   0   0   0   0   0   0   0   0   0]\n",
      " [  0   0   0   0   0   0   0   0   0   0   0   0   0  81 240 253 253 119\n",
      "   25   0   0   0   0   0   0   0   0   0]\n",
      " [  0   0   0   0   0   0   0   0   0   0   0   0   0   0  45 186 253 253\n",
      "  150  27   0   0   0   0   0   0   0   0]\n",
      " [  0   0   0   0   0   0   0   0   0   0   0   0   0   0   0  16  93 252\n",
      "  253 187   0   0   0   0   0   0   0   0]\n",
      " [  0   0   0   0   0   0   0   0   0   0   0   0   0   0   0   0   0 249\n",
      "  253 249  64   0   0   0   0   0   0   0]\n",
      " [  0   0   0   0   0   0   0   0   0   0   0   0   0   0  46 130 183 253\n",
      "  253 207   2   0   0   0   0   0   0   0]\n",
      " [  0   0   0   0   0   0   0   0   0   0   0   0  39 148 229 253 253 253\n",
      "  250 182   0   0   0   0   0   0   0   0]\n",
      " [  0   0   0   0   0   0   0   0   0   0  24 114 221 253 253 253 253 201\n",
      "   78   0   0   0   0   0   0   0   0   0]\n",
      " [  0   0   0   0   0   0   0   0  23  66 213 253 253 253 253 198  81   2\n",
      "    0   0   0   0   0   0   0   0   0   0]\n",
      " [  0   0   0   0   0   0  18 171 219 253 253 253 253 195  80   9   0   0\n",
      "    0   0   0   0   0   0   0   0   0   0]\n",
      " [  0   0   0   0  55 172 226 253 253 253 253 244 133  11   0   0   0   0\n",
      "    0   0   0   0   0   0   0   0   0   0]\n",
      " [  0   0   0   0 136 253 253 253 212 135 132  16   0   0   0   0   0   0\n",
      "    0   0   0   0   0   0   0   0   0   0]\n",
      " [  0   0   0   0   0   0   0   0   0   0   0   0   0   0   0   0   0   0\n",
      "    0   0   0   0   0   0   0   0   0   0]\n",
      " [  0   0   0   0   0   0   0   0   0   0   0   0   0   0   0   0   0   0\n",
      "    0   0   0   0   0   0   0   0   0   0]\n",
      " [  0   0   0   0   0   0   0   0   0   0   0   0   0   0   0   0   0   0\n",
      "    0   0   0   0   0   0   0   0   0   0]]\n",
      "5\n"
     ]
    }
   ],
   "source": [
    "from matplotlib import pyplot as plt\n",
    "print(train_images[0])\n",
    "print(train_labels[0])"
   ]
  },
  {
   "cell_type": "code",
   "execution_count": 4,
   "metadata": {},
   "outputs": [
    {
     "data": {
      "image/png": "[encoded data removed]",
      "text/plain": [
       "<Figure size 432x288 with 1 Axes>"
      ]
     },
     "metadata": {
      "needs_background": "light"
     },
     "output_type": "display_data"
    }
   ],
   "source": [
    "plt.imshow(train_images[0])\n",
    "plt.show() "
   ]
  },
  {
   "cell_type": "code",
   "execution_count": 5,
   "metadata": {},
   "outputs": [
    {
     "name": "stdout",
     "output_type": "stream",
     "text": [
      "Model: \"sequential_2\"\n",
      "_________________________________________________________________\n",
      "Layer (type)                 Output Shape              Param #   \n",
      "=================================================================\n",
      "dense_4 (Dense)              (None, 64)                50240     \n",
      "_________________________________________________________________\n",
      "dense_5 (Dense)              (None, 128)               8320      \n",
      "_________________________________________________________________\n",
      "dense_6 (Dense)              (None, 10)                1290      \n",
      "=================================================================\n",
      "Total params: 59,850\n",
      "Trainable params: 59,850\n",
      "Non-trainable params: 0\n",
      "_________________________________________________________________\n",
      "Train on 48000 samples, validate on 12000 samples\n",
      "Epoch 1/5\n",
      "48000/48000 [==============================] - 4s 77us/step - loss: 0.3004 - accuracy: 0.9104 - val_loss: 0.1679 - val_accuracy: 0.9516\n",
      "Epoch 2/5\n",
      "48000/48000 [==============================] - 4s 80us/step - loss: 0.1350 - accuracy: 0.9597 - val_loss: 0.1252 - val_accuracy: 0.9641\n",
      "Epoch 3/5\n",
      "48000/48000 [==============================] - 4s 87us/step - loss: 0.0971 - accuracy: 0.9709 - val_loss: 0.1165 - val_accuracy: 0.9638\n",
      "Epoch 4/5\n",
      "48000/48000 [==============================] - 4s 93us/step - loss: 0.0762 - accuracy: 0.9760 - val_loss: 0.1086 - val_accuracy: 0.9666\n",
      "Epoch 5/5\n",
      "48000/48000 [==============================] - 5s 95us/step - loss: 0.0608 - accuracy: 0.9804 - val_loss: 0.1205 - val_accuracy: 0.9669\n"
     ]
    }
   ],
   "source": [
    "# Normalize the images.\n",
    "train_images = (train_images / 255)\n",
    "test_images = (test_images / 255)\n",
    "\n",
    "# Flatten the images.\n",
    "train_images = train_images.reshape((-1, 784))\n",
    "test_images = test_images.reshape((-1, 784))\n",
    "\n",
    "# Build the model.\n",
    "model = Sequential([\n",
    "  Dense(64, activation='relu', input_shape=(784,)),\n",
    "  Dense(128, activation='relu'),\n",
    "  Dense(10, activation='softmax'),\n",
    "])\n",
    "\n",
    "# Summary model\n",
    "model.summary()\n",
    "\n",
    "# Compile the model.\n",
    "model.compile(\n",
    "  optimizer='adam',\n",
    "  loss='categorical_crossentropy',\n",
    "  metrics=['accuracy'],\n",
    ")\n",
    "\n",
    "# Train the model.\n",
    "train_history = model.fit(\n",
    "  x=train_images,\n",
    "  y=to_categorical(train_labels),\n",
    "  validation_split=0.2,\n",
    "  epochs=5,\n",
    "  batch_size=32,\n",
    ")"
   ]
  },
  {
   "cell_type": "code",
   "execution_count": 6,
   "metadata": {},
   "outputs": [
    {
     "data": {
      "image/png": "[encoded data removed]",
      "text/plain": [
       "<Figure size 432x288 with 1 Axes>"
      ]
     },
     "metadata": {
      "needs_background": "light"
     },
     "output_type": "display_data"
    }
   ],
   "source": [
    "plt.plot(train_history.history['loss'])  \n",
    "plt.plot(train_history.history['val_loss'])  \n",
    "plt.title('Train History')  \n",
    "plt.ylabel('loss')  \n",
    "plt.xlabel('Epoch')  \n",
    "plt.legend(['loss', 'val_loss'], loc='upper left')  \n",
    "plt.show() "
   ]
  },
  {
   "cell_type": "code",
   "execution_count": 7,
   "metadata": {},
   "outputs": [
    {
     "name": "stdout",
     "output_type": "stream",
     "text": [
      "10000/10000 [==============================] - 0s 30us/step\n",
      "test accuracy is 0.9704999923706055\n",
      "[7 2 1 0 4]\n",
      "[7 2 1 0 4]\n"
     ]
    }
   ],
   "source": [
    "# Evaluate the model.\n",
    "test_loss, test_acc = model.evaluate(test_images, to_categorical(test_labels))\n",
    "\n",
    "print('test accuracy is {}'.format(test_acc))\n",
    "\n",
    "# Predict on the first 5 test images.\n",
    "predictions = model.predict(test_images[:5])\n",
    "\n",
    "# Print our model's predictions.\n",
    "print(np.argmax(predictions, axis=1)) # [7, 2, 1, 0, 4]\n",
    "\n",
    "# Check our predictions against the ground truths.\n",
    "print(test_labels[:5]) # [7, 2, 1, 0, 4]'''\n",
    "\n",
    "# Save the model to disk.\n",
    "model.save('model.h5')"
   ]
  },
  {
   "cell_type": "markdown",
   "metadata": {},
   "source": [
    "# MNIST Dataset - load model and testing"
   ]
  },
  {
   "cell_type": "code",
   "execution_count": 8,
   "metadata": {},
   "outputs": [
    {
     "name": "stdout",
     "output_type": "stream",
     "text": [
      "10000/10000 [==============================] - 0s 34us/step\n",
      "test accuracy is 0.9704999923706055\n",
      "[7 2 1 0 4]\n",
      "[[0. 0. 0. 0. 0. 0. 0. 1. 0. 0.]\n",
      " [0. 0. 1. 0. 0. 0. 0. 0. 0. 0.]\n",
      " [0. 1. 0. 0. 0. 0. 0. 0. 0. 0.]\n",
      " [1. 0. 0. 0. 0. 0. 0. 0. 0. 0.]\n",
      " [0. 0. 0. 0. 1. 0. 0. 0. 0. 0.]]\n"
     ]
    }
   ],
   "source": [
    "from tensorflow.keras.datasets import mnist\n",
    "from tensorflow.keras.utils import to_categorical\n",
    "\n",
    "from keras.models import load_model\n",
    "\n",
    "\n",
    "(_, _), (test_images, test_labels) = mnist.load_data() # (_, _), 代表不重要的變數也可以設成常見的i, j之類\n",
    "\n",
    "\n",
    "x_test = test_images.reshape((10000, 28 * 28)) \n",
    "x_test = x_test.astype('float32') / 255      \n",
    "y_test  = to_categorical(test_labels)\n",
    "\n",
    "\n",
    "model = load_model('model.h5')  \n",
    "\n",
    "test_loss, test_acc = model.evaluate(x_test, y_test) \n",
    "print('test accuracy is {}'.format(test_acc))\n",
    "\n",
    "# Predict on the first 5 test images.\n",
    "predictions = model.predict(x_test[:5])\n",
    "\n",
    "# Print our model's predictions.\n",
    "print(np.argmax(predictions, axis=1)) # [7, 2, 1, 0, 4]\n",
    "\n",
    "# Check our predictions against the ground truths.\n",
    "print(y_test[:5]) # [7, 2, 1, 0, 4]'''\n",
    "\n"
   ]
  },
  {
   "cell_type": "markdown",
   "metadata": {},
   "source": [
    "# Dropout"
   ]
  },
  {
   "cell_type": "code",
   "execution_count": 2,
   "metadata": {},
   "outputs": [
    {
     "name": "stdout",
     "output_type": "stream",
     "text": [
      "60000 train samples\n",
      "10000 test samples\n",
      "784\n",
      "Model: \"sequential_1\"\n",
      "_________________________________________________________________\n",
      "Layer (type)                 Output Shape              Param #   \n",
      "=================================================================\n",
      "dense_1 (Dense)              (None, 256)               200960    \n",
      "_________________________________________________________________\n",
      "activation_1 (Activation)    (None, 256)               0         \n",
      "_________________________________________________________________\n",
      "dropout_1 (Dropout)          (None, 256)               0         \n",
      "_________________________________________________________________\n",
      "dense_2 (Dense)              (None, 512)               131584    \n",
      "_________________________________________________________________\n",
      "activation_2 (Activation)    (None, 512)               0         \n",
      "_________________________________________________________________\n",
      "dropout_2 (Dropout)          (None, 512)               0         \n",
      "_________________________________________________________________\n",
      "dense_3 (Dense)              (None, 10)                5130      \n",
      "_________________________________________________________________\n",
      "activation_3 (Activation)    (None, 10)                0         \n",
      "=================================================================\n",
      "Total params: 337,674\n",
      "Trainable params: 337,674\n",
      "Non-trainable params: 0\n",
      "_________________________________________________________________\n",
      "None\n"
     ]
    },
    {
     "name": "stderr",
     "output_type": "stream",
     "text": [
      "C:\\Users\\User\\anaconda3\\envs\\Python_AI\\lib\\site-packages\\ipykernel_launcher.py:55: UserWarning: The `nb_epoch` argument in `fit` has been renamed `epochs`.\n"
     ]
    },
    {
     "name": "stdout",
     "output_type": "stream",
     "text": [
      "Train on 60000 samples, validate on 10000 samples\n",
      "Epoch 1/20\n",
      "60000/60000 [==============================] - 7s 125us/step - loss: 0.2972 - accuracy: 0.9082 - val_loss: 0.1308 - val_accuracy: 0.9604\n",
      "Epoch 2/20\n",
      "60000/60000 [==============================] - 4s 70us/step - loss: 0.1338 - accuracy: 0.9597 - val_loss: 0.0995 - val_accuracy: 0.9690\n",
      "Epoch 3/20\n",
      "60000/60000 [==============================] - 5s 76us/step - loss: 0.1021 - accuracy: 0.9693 - val_loss: 0.0901 - val_accuracy: 0.9727\n",
      "Epoch 4/20\n",
      "60000/60000 [==============================] - 4s 71us/step - loss: 0.0873 - accuracy: 0.9735 - val_loss: 0.0784 - val_accuracy: 0.9773\n",
      "Epoch 5/20\n",
      "60000/60000 [==============================] - 4s 69us/step - loss: 0.0767 - accuracy: 0.9775 - val_loss: 0.0814 - val_accuracy: 0.9791\n",
      "Epoch 6/20\n",
      "60000/60000 [==============================] - 4s 62us/step - loss: 0.0680 - accuracy: 0.9797 - val_loss: 0.0741 - val_accuracy: 0.9808\n",
      "Epoch 7/20\n",
      "60000/60000 [==============================] - 4s 63us/step - loss: 0.0632 - accuracy: 0.9811 - val_loss: 0.0799 - val_accuracy: 0.9802\n",
      "Epoch 8/20\n",
      "60000/60000 [==============================] - 4s 67us/step - loss: 0.0564 - accuracy: 0.9830 - val_loss: 0.0700 - val_accuracy: 0.9832\n",
      "Epoch 9/20\n",
      "60000/60000 [==============================] - 4s 74us/step - loss: 0.0528 - accuracy: 0.9841 - val_loss: 0.0747 - val_accuracy: 0.9827\n",
      "Epoch 10/20\n",
      "60000/60000 [==============================] - 4s 67us/step - loss: 0.0506 - accuracy: 0.9842 - val_loss: 0.0789 - val_accuracy: 0.9815\n",
      "Epoch 11/20\n",
      "60000/60000 [==============================] - 4s 66us/step - loss: 0.0472 - accuracy: 0.9862 - val_loss: 0.0851 - val_accuracy: 0.9817\n",
      "Epoch 12/20\n",
      "60000/60000 [==============================] - 4s 67us/step - loss: 0.0442 - accuracy: 0.9875 - val_loss: 0.0863 - val_accuracy: 0.9823\n",
      "Epoch 13/20\n",
      "60000/60000 [==============================] - 4s 62us/step - loss: 0.0420 - accuracy: 0.9879 - val_loss: 0.0872 - val_accuracy: 0.9823\n",
      "Epoch 14/20\n",
      "60000/60000 [==============================] - 4s 61us/step - loss: 0.0406 - accuracy: 0.9881 - val_loss: 0.0876 - val_accuracy: 0.9834\n",
      "Epoch 15/20\n",
      "60000/60000 [==============================] - 4s 62us/step - loss: 0.0419 - accuracy: 0.9881 - val_loss: 0.0875 - val_accuracy: 0.9823\n",
      "Epoch 16/20\n",
      "60000/60000 [==============================] - 4s 64us/step - loss: 0.0363 - accuracy: 0.9893 - val_loss: 0.1080 - val_accuracy: 0.9801\n",
      "Epoch 17/20\n",
      "60000/60000 [==============================] - 4s 62us/step - loss: 0.0360 - accuracy: 0.9896 - val_loss: 0.0989 - val_accuracy: 0.9826\n",
      "Epoch 18/20\n",
      "60000/60000 [==============================] - 4s 61us/step - loss: 0.0356 - accuracy: 0.9898 - val_loss: 0.1011 - val_accuracy: 0.9819\n",
      "Epoch 19/20\n",
      "60000/60000 [==============================] - 4s 61us/step - loss: 0.0349 - accuracy: 0.9901 - val_loss: 0.1035 - val_accuracy: 0.9816\n",
      "Epoch 20/20\n",
      "60000/60000 [==============================] - 4s 65us/step - loss: 0.0353 - accuracy: 0.9902 - val_loss: 0.1000 - val_accuracy: 0.9820\n",
      "10000/10000 [==============================] - 0s 49us/step\n",
      "Test score: 0.10001940851063365\n",
      "Test accuracy: 0.9819999933242798\n"
     ]
    }
   ],
   "source": [
    "import numpy as np\n",
    "np.random.seed(1337)  # for reproducibility\n",
    "\n",
    "from keras.datasets import mnist\n",
    "from keras.models import Sequential\n",
    "from keras.layers.core import Dense, Dropout, Activation\n",
    "from keras.utils import np_utils\n",
    "\n",
    "\n",
    "batch_size = 128\n",
    "nb_classes = 10\n",
    "nb_epoch = 20\n",
    "\n",
    "(X_train, y_train), (X_test, y_test) = mnist.load_data()\n",
    "\n",
    "X_train = X_train.reshape(60000, 784)\n",
    "X_test = X_test.reshape(10000, 784)\n",
    "X_train = X_train.astype('float32')\n",
    "X_test = X_test.astype('float32')\n",
    "\n",
    "\n",
    "X_train /= 255\n",
    "X_test /= 255\n",
    "print(X_train.shape[0], 'train samples')\n",
    "print(X_test.shape[0], 'test samples')\n",
    "\n",
    "Y_train = np_utils.to_categorical(y_train, nb_classes)\n",
    "Y_test = np_utils.to_categorical(y_test, nb_classes)\n",
    "print(X_train.shape[1])\n",
    "\n",
    "model = Sequential()\n",
    "model.add(Dense(256, input_shape=(784,)))\n",
    "model.add(Activation('relu'))\n",
    "# add dropout\n",
    "model.add(Dropout(0.3))\n",
    "\n",
    "model.add(Dense(512))\n",
    "model.add(Activation('relu'))\n",
    "# add dropout\n",
    "model.add(Dropout(0.2))\n",
    "\n",
    "model.add(Dense(10)) # 輸出 10 類 0~9\n",
    "model.add(Activation('softmax'))\n",
    "\n",
    "\n",
    "print(model.summary())\n",
    "\n",
    "model.compile(loss='categorical_crossentropy',\n",
    "              optimizer='rmsprop',\n",
    "              metrics=['accuracy'])\n",
    "\n",
    "\n",
    "history = model.fit(X_train, Y_train,\n",
    "                    batch_size=batch_size, nb_epoch=nb_epoch,\n",
    "                    verbose=1, validation_data=(X_test, Y_test))\n",
    "\n",
    "\n",
    "score = model.evaluate(X_test, Y_test, verbose=1)\n",
    "print('Test score:', score[0])\n",
    "print('Test accuracy:', score[1])\n"
   ]
  },
  {
   "cell_type": "code",
   "execution_count": 10,
   "metadata": {},
   "outputs": [
    {
     "data": {
      "image/png": "[encoded data removed]",
      "text/plain": [
       "<Figure size 432x288 with 1 Axes>"
      ]
     },
     "metadata": {
      "needs_background": "light"
     },
     "output_type": "display_data"
    }
   ],
   "source": [
    "plt.plot(history.history['loss'])  \n",
    "plt.plot(history.history['val_loss'])  \n",
    "plt.title('Train History')  \n",
    "plt.ylabel('loss')  \n",
    "plt.xlabel('Epoch')  \n",
    "plt.legend(['loss', 'val_loss'], loc='upper left')  \n",
    "plt.show() "
   ]
  },
  {
   "cell_type": "markdown",
   "metadata": {},
   "source": [
    "# Regression"
   ]
  },
  {
   "cell_type": "code",
   "execution_count": 3,
   "metadata": {},
   "outputs": [
    {
     "name": "stdout",
     "output_type": "stream",
     "text": [
      "Downloading data from https://s3.amazonaws.com/keras-datasets/boston_housing.npz\n",
      "57344/57026 [==============================] - 0s 6us/step\n",
      "[  1.23247   0.        8.14      0.        0.538     6.142    91.7\n",
      "   3.9769    4.      307.       21.      396.9      18.72   ]\n"
     ]
    }
   ],
   "source": [
    "from keras.datasets import boston_housing\n",
    "(X_train, y_train), (X_test, y_test) = boston_housing.load_data()\n",
    "\n",
    "print(X_train[0])"
   ]
  },
  {
   "cell_type": "code",
   "execution_count": 4,
   "metadata": {},
   "outputs": [
    {
     "name": "stdout",
     "output_type": "stream",
     "text": [
      "15.2\n"
     ]
    }
   ],
   "source": [
    "print(y_train[0])"
   ]
  },
  {
   "cell_type": "code",
   "execution_count": 5,
   "metadata": {},
   "outputs": [],
   "source": [
    "from sklearn.preprocessing import StandardScaler\n",
    "scaler = StandardScaler()\n",
    "scaler.fit(X_train)\n",
    "\n",
    "X_train_scaled = scaler.transform(X_train)\n",
    "X_test_scaled = scaler.transform(X_test)"
   ]
  },
  {
   "cell_type": "code",
   "execution_count": 8,
   "metadata": {},
   "outputs": [
    {
     "name": "stdout",
     "output_type": "stream",
     "text": [
      "(404,)\n"
     ]
    }
   ],
   "source": [
    "print(y_train.shape[1])"
   ]
  },
  {
   "cell_type": "code",
   "execution_count": 14,
   "metadata": {},
   "outputs": [],
   "source": [
    "from keras import models, layers\n",
    "\n",
    "model = models.Sequential()\n",
    "model.add(layers.Dense(8, activation='relu', input_shape=[X_train.shape[1]]))\n",
    "model.add(layers.Dense(16, activation='relu'))\n",
    "model.add(layers.Dense(1))"
   ]
  },
  {
   "cell_type": "code",
   "execution_count": 15,
   "metadata": {},
   "outputs": [
    {
     "name": "stdout",
     "output_type": "stream",
     "text": [
      "Train on 323 samples, validate on 81 samples\n",
      "Epoch 1/100\n",
      "323/323 [==============================] - 0s 694us/step - loss: 591.8293 - mae: 22.6116 - val_loss: 654.3442 - val_mae: 23.9187\n",
      "Epoch 2/100\n",
      "323/323 [==============================] - 0s 87us/step - loss: 580.2682 - mae: 22.3572 - val_loss: 644.7691 - val_mae: 23.7223\n",
      "Epoch 3/100\n",
      "323/323 [==============================] - 0s 65us/step - loss: 570.9208 - mae: 22.1559 - val_loss: 635.9067 - val_mae: 23.5414\n",
      "Epoch 4/100\n",
      "323/323 [==============================] - 0s 80us/step - loss: 562.1471 - mae: 21.9668 - val_loss: 626.8533 - val_mae: 23.3566\n",
      "Epoch 5/100\n",
      "323/323 [==============================] - 0s 71us/step - loss: 553.2818 - mae: 21.7748 - val_loss: 617.2855 - val_mae: 23.1623\n",
      "Epoch 6/100\n",
      "323/323 [==============================] - 0s 62us/step - loss: 543.9507 - mae: 21.5784 - val_loss: 607.3671 - val_mae: 22.9594\n",
      "Epoch 7/100\n",
      "323/323 [==============================] - 0s 65us/step - loss: 534.2318 - mae: 21.3706 - val_loss: 597.9489 - val_mae: 22.7637\n",
      "Epoch 8/100\n",
      "323/323 [==============================] - 0s 80us/step - loss: 524.6688 - mae: 21.1662 - val_loss: 586.7110 - val_mae: 22.5317\n",
      "Epoch 9/100\n",
      "323/323 [==============================] - 0s 77us/step - loss: 513.6946 - mae: 20.9288 - val_loss: 574.8627 - val_mae: 22.2844\n",
      "Epoch 10/100\n",
      "323/323 [==============================] - 0s 77us/step - loss: 502.0994 - mae: 20.6795 - val_loss: 563.1210 - val_mae: 22.0353\n",
      "Epoch 11/100\n",
      "323/323 [==============================] - 0s 93us/step - loss: 490.2500 - mae: 20.4238 - val_loss: 549.9376 - val_mae: 21.7555\n",
      "Epoch 12/100\n",
      "323/323 [==============================] - 0s 84us/step - loss: 477.2616 - mae: 20.1405 - val_loss: 535.6163 - val_mae: 21.4479\n",
      "Epoch 13/100\n",
      "323/323 [==============================] - 0s 84us/step - loss: 463.5483 - mae: 19.8348 - val_loss: 519.7606 - val_mae: 21.1026\n",
      "Epoch 14/100\n",
      "323/323 [==============================] - 0s 77us/step - loss: 448.9826 - mae: 19.5054 - val_loss: 506.9644 - val_mae: 20.8165\n",
      "Epoch 15/100\n",
      "323/323 [==============================] - 0s 77us/step - loss: 435.8568 - mae: 19.2006 - val_loss: 491.7601 - val_mae: 20.4712\n",
      "Epoch 16/100\n",
      "323/323 [==============================] - 0s 84us/step - loss: 420.8718 - mae: 18.8465 - val_loss: 475.7145 - val_mae: 20.0969\n",
      "Epoch 17/100\n",
      "323/323 [==============================] - 0s 74us/step - loss: 405.1582 - mae: 18.4692 - val_loss: 458.3762 - val_mae: 19.6808\n",
      "Epoch 18/100\n",
      "323/323 [==============================] - 0s 77us/step - loss: 388.3909 - mae: 18.0549 - val_loss: 439.4980 - val_mae: 19.2171\n",
      "Epoch 19/100\n",
      "323/323 [==============================] - 0s 84us/step - loss: 370.8097 - mae: 17.5997 - val_loss: 422.8938 - val_mae: 18.7917\n",
      "Epoch 20/100\n",
      "323/323 [==============================] - 0s 77us/step - loss: 354.2277 - mae: 17.1606 - val_loss: 403.6101 - val_mae: 18.2802\n",
      "Epoch 21/100\n",
      "323/323 [==============================] - 0s 77us/step - loss: 335.8904 - mae: 16.6502 - val_loss: 383.3919 - val_mae: 17.7287\n",
      "Epoch 22/100\n",
      "323/323 [==============================] - 0s 74us/step - loss: 317.5429 - mae: 16.1202 - val_loss: 366.2051 - val_mae: 17.2225\n",
      "Epoch 23/100\n",
      "323/323 [==============================] - 0s 77us/step - loss: 300.4604 - mae: 15.5928 - val_loss: 346.0126 - val_mae: 16.6027\n",
      "Epoch 24/100\n",
      "323/323 [==============================] - 0s 71us/step - loss: 282.1092 - mae: 14.9935 - val_loss: 328.0932 - val_mae: 16.0283\n",
      "Epoch 25/100\n",
      "323/323 [==============================] - 0s 68us/step - loss: 264.8789 - mae: 14.4105 - val_loss: 308.4800 - val_mae: 15.3524\n",
      "Epoch 26/100\n",
      "323/323 [==============================] - 0s 65us/step - loss: 247.2727 - mae: 13.7458 - val_loss: 289.8503 - val_mae: 14.6680\n",
      "Epoch 27/100\n",
      "323/323 [==============================] - 0s 77us/step - loss: 230.1005 - mae: 13.0942 - val_loss: 271.4433 - val_mae: 13.9521\n",
      "Epoch 28/100\n",
      "323/323 [==============================] - 0s 80us/step - loss: 213.7262 - mae: 12.4599 - val_loss: 253.9640 - val_mae: 13.2697\n",
      "Epoch 29/100\n",
      "323/323 [==============================] - 0s 80us/step - loss: 198.8269 - mae: 11.8254 - val_loss: 236.7366 - val_mae: 12.5921\n",
      "Epoch 30/100\n",
      "323/323 [==============================] - 0s 90us/step - loss: 184.1869 - mae: 11.2196 - val_loss: 221.7300 - val_mae: 11.9963\n",
      "Epoch 31/100\n",
      "323/323 [==============================] - 0s 71us/step - loss: 171.4162 - mae: 10.6462 - val_loss: 207.8676 - val_mae: 11.4595\n",
      "Epoch 32/100\n",
      "323/323 [==============================] - 0s 72us/step - loss: 159.7232 - mae: 10.1199 - val_loss: 195.5591 - val_mae: 10.9929\n",
      "Epoch 33/100\n",
      "323/323 [==============================] - 0s 74us/step - loss: 149.7805 - mae: 9.6244 - val_loss: 183.5295 - val_mae: 10.5328\n",
      "Epoch 34/100\n",
      "323/323 [==============================] - 0s 74us/step - loss: 140.5981 - mae: 9.1864 - val_loss: 173.4135 - val_mae: 10.2077\n",
      "Epoch 35/100\n",
      "323/323 [==============================] - 0s 80us/step - loss: 133.1879 - mae: 8.8199 - val_loss: 167.1434 - val_mae: 9.9816\n",
      "Epoch 36/100\n",
      "323/323 [==============================] - 0s 74us/step - loss: 127.6186 - mae: 8.5344 - val_loss: 160.1801 - val_mae: 9.7340\n",
      "Epoch 37/100\n",
      "323/323 [==============================] - 0s 77us/step - loss: 121.9876 - mae: 8.2857 - val_loss: 152.7517 - val_mae: 9.4545\n",
      "Epoch 38/100\n",
      "323/323 [==============================] - 0s 68us/step - loss: 116.5117 - mae: 8.0150 - val_loss: 145.9616 - val_mae: 9.1994\n",
      "Epoch 39/100\n",
      "323/323 [==============================] - 0s 74us/step - loss: 111.3676 - mae: 7.7534 - val_loss: 140.8692 - val_mae: 8.9906\n",
      "Epoch 40/100\n",
      "323/323 [==============================] - 0s 84us/step - loss: 107.0003 - mae: 7.5543 - val_loss: 135.4287 - val_mae: 8.7719\n",
      "Epoch 41/100\n",
      "323/323 [==============================] - 0s 68us/step - loss: 102.6126 - mae: 7.3550 - val_loss: 130.2051 - val_mae: 8.5462\n",
      "Epoch 42/100\n",
      "323/323 [==============================] - 0s 84us/step - loss: 98.3368 - mae: 7.1669 - val_loss: 124.3406 - val_mae: 8.3085\n",
      "Epoch 43/100\n",
      "323/323 [==============================] - 0s 87us/step - loss: 93.8352 - mae: 6.9599 - val_loss: 118.5680 - val_mae: 8.0718\n",
      "Epoch 44/100\n",
      "323/323 [==============================] - 0s 84us/step - loss: 89.6065 - mae: 6.7717 - val_loss: 113.6876 - val_mae: 7.8474\n",
      "Epoch 45/100\n",
      "323/323 [==============================] - 0s 84us/step - loss: 86.0604 - mae: 6.6083 - val_loss: 108.7218 - val_mae: 7.6478\n",
      "Epoch 46/100\n",
      "323/323 [==============================] - 0s 77us/step - loss: 82.5547 - mae: 6.4602 - val_loss: 104.4715 - val_mae: 7.4373\n",
      "Epoch 47/100\n",
      "323/323 [==============================] - 0s 77us/step - loss: 79.2255 - mae: 6.2939 - val_loss: 99.7177 - val_mae: 7.2245\n",
      "Epoch 48/100\n",
      "323/323 [==============================] - 0s 74us/step - loss: 75.9984 - mae: 6.1566 - val_loss: 96.2219 - val_mae: 7.0513\n",
      "Epoch 49/100\n",
      "323/323 [==============================] - 0s 84us/step - loss: 73.4149 - mae: 6.0122 - val_loss: 92.6223 - val_mae: 6.8761\n",
      "Epoch 50/100\n",
      "323/323 [==============================] - 0s 87us/step - loss: 70.9327 - mae: 5.8777 - val_loss: 88.4520 - val_mae: 6.6521\n",
      "Epoch 51/100\n",
      "323/323 [==============================] - 0s 77us/step - loss: 68.2754 - mae: 5.7462 - val_loss: 85.4735 - val_mae: 6.5045\n",
      "Epoch 52/100\n",
      "323/323 [==============================] - 0s 74us/step - loss: 66.1562 - mae: 5.6263 - val_loss: 82.1540 - val_mae: 6.3267\n",
      "Epoch 53/100\n",
      "323/323 [==============================] - 0s 74us/step - loss: 63.9454 - mae: 5.5049 - val_loss: 79.3996 - val_mae: 6.1840\n",
      "Epoch 54/100\n",
      "323/323 [==============================] - 0s 84us/step - loss: 61.9566 - mae: 5.3879 - val_loss: 77.0880 - val_mae: 6.0477\n",
      "Epoch 55/100\n",
      "323/323 [==============================] - 0s 77us/step - loss: 59.9885 - mae: 5.2675 - val_loss: 74.2824 - val_mae: 5.9105\n",
      "Epoch 56/100\n",
      "323/323 [==============================] - 0s 80us/step - loss: 58.1428 - mae: 5.1725 - val_loss: 71.6968 - val_mae: 5.7798\n",
      "Epoch 57/100\n",
      "323/323 [==============================] - 0s 87us/step - loss: 56.3367 - mae: 5.0579 - val_loss: 69.0941 - val_mae: 5.6838\n",
      "Epoch 58/100\n",
      "323/323 [==============================] - 0s 87us/step - loss: 54.9822 - mae: 4.9909 - val_loss: 66.9700 - val_mae: 5.5682\n",
      "Epoch 59/100\n",
      "323/323 [==============================] - 0s 80us/step - loss: 53.3839 - mae: 4.8814 - val_loss: 64.5777 - val_mae: 5.4564\n",
      "Epoch 60/100\n",
      "323/323 [==============================] - 0s 84us/step - loss: 51.9338 - mae: 4.7998 - val_loss: 62.7049 - val_mae: 5.3749\n",
      "Epoch 61/100\n",
      "323/323 [==============================] - 0s 87us/step - loss: 50.5678 - mae: 4.7189 - val_loss: 60.9130 - val_mae: 5.2937\n",
      "Epoch 62/100\n",
      "323/323 [==============================] - 0s 65us/step - loss: 49.2494 - mae: 4.6355 - val_loss: 59.1054 - val_mae: 5.2229\n",
      "Epoch 63/100\n",
      "323/323 [==============================] - 0s 77us/step - loss: 47.9616 - mae: 4.5627 - val_loss: 57.7327 - val_mae: 5.1565\n",
      "Epoch 64/100\n",
      "323/323 [==============================] - 0s 99us/step - loss: 46.8491 - mae: 4.4941 - val_loss: 56.0779 - val_mae: 5.0739\n",
      "Epoch 65/100\n",
      "323/323 [==============================] - 0s 65us/step - loss: 45.6420 - mae: 4.4123 - val_loss: 54.5346 - val_mae: 4.9874\n",
      "Epoch 66/100\n",
      "323/323 [==============================] - 0s 80us/step - loss: 44.5255 - mae: 4.3368 - val_loss: 52.7829 - val_mae: 4.8994\n",
      "Epoch 67/100\n",
      "323/323 [==============================] - 0s 65us/step - loss: 43.4480 - mae: 4.2743 - val_loss: 51.2191 - val_mae: 4.8268\n",
      "Epoch 68/100\n",
      "323/323 [==============================] - 0s 80us/step - loss: 42.3398 - mae: 4.2122 - val_loss: 50.6978 - val_mae: 4.7986\n",
      "Epoch 69/100\n",
      "323/323 [==============================] - 0s 80us/step - loss: 41.5821 - mae: 4.1695 - val_loss: 49.1125 - val_mae: 4.7127\n",
      "Epoch 70/100\n",
      "323/323 [==============================] - 0s 80us/step - loss: 40.6895 - mae: 4.1117 - val_loss: 48.6210 - val_mae: 4.6880\n",
      "Epoch 71/100\n",
      "323/323 [==============================] - 0s 68us/step - loss: 39.7776 - mae: 4.0560 - val_loss: 47.3736 - val_mae: 4.6189\n",
      "Epoch 72/100\n",
      "323/323 [==============================] - 0s 80us/step - loss: 38.9279 - mae: 4.0041 - val_loss: 46.8484 - val_mae: 4.5924\n",
      "Epoch 73/100\n",
      "323/323 [==============================] - 0s 77us/step - loss: 38.3357 - mae: 3.9608 - val_loss: 45.9414 - val_mae: 4.5600\n",
      "Epoch 74/100\n",
      "323/323 [==============================] - 0s 77us/step - loss: 37.5911 - mae: 3.9143 - val_loss: 45.0332 - val_mae: 4.5183\n",
      "Epoch 75/100\n",
      "323/323 [==============================] - 0s 71us/step - loss: 36.8471 - mae: 3.8719 - val_loss: 44.2304 - val_mae: 4.4852\n",
      "Epoch 76/100\n",
      "323/323 [==============================] - 0s 74us/step - loss: 36.0135 - mae: 3.8201 - val_loss: 43.4111 - val_mae: 4.4446\n",
      "Epoch 77/100\n",
      "323/323 [==============================] - 0s 80us/step - loss: 35.2271 - mae: 3.7832 - val_loss: 42.4816 - val_mae: 4.4011\n",
      "Epoch 78/100\n",
      "323/323 [==============================] - 0s 77us/step - loss: 34.3319 - mae: 3.7220 - val_loss: 41.5625 - val_mae: 4.3655\n",
      "Epoch 79/100\n",
      "323/323 [==============================] - 0s 77us/step - loss: 33.5794 - mae: 3.6806 - val_loss: 40.6378 - val_mae: 4.3192\n",
      "Epoch 80/100\n",
      "323/323 [==============================] - 0s 71us/step - loss: 32.8619 - mae: 3.6453 - val_loss: 39.6707 - val_mae: 4.2748\n",
      "Epoch 81/100\n",
      "323/323 [==============================] - 0s 77us/step - loss: 32.0870 - mae: 3.6115 - val_loss: 39.0479 - val_mae: 4.2447\n",
      "Epoch 82/100\n",
      "323/323 [==============================] - 0s 84us/step - loss: 31.5247 - mae: 3.6023 - val_loss: 38.0999 - val_mae: 4.2008\n",
      "Epoch 83/100\n",
      "323/323 [==============================] - 0s 71us/step - loss: 30.8751 - mae: 3.5640 - val_loss: 36.8965 - val_mae: 4.1486\n",
      "Epoch 84/100\n",
      "323/323 [==============================] - 0s 77us/step - loss: 30.2962 - mae: 3.5489 - val_loss: 36.5105 - val_mae: 4.1331\n",
      "Epoch 85/100\n",
      "323/323 [==============================] - 0s 62us/step - loss: 29.8949 - mae: 3.5281 - val_loss: 35.8333 - val_mae: 4.1004\n",
      "Epoch 86/100\n",
      "323/323 [==============================] - 0s 71us/step - loss: 29.4843 - mae: 3.5034 - val_loss: 35.0458 - val_mae: 4.0585\n",
      "Epoch 87/100\n",
      "323/323 [==============================] - 0s 74us/step - loss: 28.9804 - mae: 3.4797 - val_loss: 34.2786 - val_mae: 4.0214\n",
      "Epoch 88/100\n",
      "323/323 [==============================] - 0s 74us/step - loss: 28.4840 - mae: 3.4383 - val_loss: 33.6976 - val_mae: 3.9895\n",
      "Epoch 89/100\n",
      "323/323 [==============================] - 0s 77us/step - loss: 27.9059 - mae: 3.3969 - val_loss: 32.8881 - val_mae: 3.9522\n",
      "Epoch 90/100\n",
      "323/323 [==============================] - 0s 74us/step - loss: 27.4707 - mae: 3.3866 - val_loss: 32.1708 - val_mae: 3.9214\n",
      "Epoch 91/100\n",
      "323/323 [==============================] - 0s 74us/step - loss: 26.9377 - mae: 3.3763 - val_loss: 31.5846 - val_mae: 3.8917\n",
      "Epoch 92/100\n",
      "323/323 [==============================] - 0s 80us/step - loss: 26.5494 - mae: 3.3514 - val_loss: 31.2611 - val_mae: 3.8805\n",
      "Epoch 93/100\n",
      "323/323 [==============================] - 0s 62us/step - loss: 26.1328 - mae: 3.3100 - val_loss: 30.5177 - val_mae: 3.8403\n",
      "Epoch 94/100\n",
      "323/323 [==============================] - 0s 80us/step - loss: 25.7594 - mae: 3.3005 - val_loss: 29.9192 - val_mae: 3.8001\n",
      "Epoch 95/100\n",
      "323/323 [==============================] - 0s 74us/step - loss: 25.3922 - mae: 3.2864 - val_loss: 29.4279 - val_mae: 3.7731\n",
      "Epoch 96/100\n",
      "323/323 [==============================] - 0s 71us/step - loss: 25.0672 - mae: 3.2644 - val_loss: 28.8142 - val_mae: 3.7391\n",
      "Epoch 97/100\n",
      "323/323 [==============================] - 0s 87us/step - loss: 24.6150 - mae: 3.2343 - val_loss: 28.1219 - val_mae: 3.7102\n",
      "Epoch 98/100\n",
      "323/323 [==============================] - 0s 80us/step - loss: 24.2460 - mae: 3.2142 - val_loss: 27.7556 - val_mae: 3.6813\n",
      "Epoch 99/100\n",
      "323/323 [==============================] - 0s 84us/step - loss: 23.9277 - mae: 3.1953 - val_loss: 27.2814 - val_mae: 3.6472\n",
      "Epoch 100/100\n",
      "323/323 [==============================] - 0s 81us/step - loss: 23.6618 - mae: 3.1690 - val_loss: 26.6254 - val_mae: 3.6207\n"
     ]
    }
   ],
   "source": [
    "model.compile(optimizer='rmsprop', loss='mse', metrics=['mae'])\n",
    "history = model.fit(X_train_scaled, y_train, validation_split=0.2, epochs=100)"
   ]
  },
  {
   "cell_type": "code",
   "execution_count": 16,
   "metadata": {},
   "outputs": [
    {
     "name": "stdout",
     "output_type": "stream",
     "text": [
      "102/102 [==============================] - 0s 49us/step\n"
     ]
    },
    {
     "data": {
      "text/plain": [
       "[27.78503148696002, 4.09093713760376]"
      ]
     },
     "execution_count": 16,
     "metadata": {},
     "output_type": "execute_result"
    }
   ],
   "source": [
    "model.evaluate(X_test_scaled, y_test) # MSE & MAE\n",
    "# output values represent the loss(MSE) and the metrics(MAE)"
   ]
  },
  {
   "cell_type": "code",
   "execution_count": 17,
   "metadata": {},
   "outputs": [
    {
     "name": "stdout",
     "output_type": "stream",
     "text": [
      "[[13.933854]\n",
      " [17.022379]]\n"
     ]
    }
   ],
   "source": [
    "to_predict = X_test_scaled[:2]\n",
    "predictions = model.predict(to_predict)\n",
    "print(predictions)"
   ]
  },
  {
   "cell_type": "code",
   "execution_count": 18,
   "metadata": {},
   "outputs": [
    {
     "name": "stdout",
     "output_type": "stream",
     "text": [
      "[ 7.2 18.8]\n"
     ]
    }
   ],
   "source": [
    "print(y_test[:2])"
   ]
  },
  {
   "cell_type": "markdown",
   "metadata": {},
   "source": [
    "參考 dnn network playground - 體驗DNN演示平臺\n",
    "\n",
    "https://playground.tensorflow.org/#activation=tanh&batchSize=10&dataset=circle&regDataset=reg-plane&learningRate=0.03&regularizationRate=0&noise=0&networkShape=4,2&seed=0.09778&showTestData=false&discretize=false&percTrainData=50&x=true&y=true&xTimesY=false&xSquared=false&ySquared=false&cosX=false&sinX=false&cosY=false&sinY=false&collectStats=false&problem=classification&initZero=false&hideText=false"
   ]
  },
  {
   "cell_type": "code",
   "execution_count": null,
   "metadata": {},
   "outputs": [],
   "source": []
  }
 ],
 "metadata": {
  "kernelspec": {
   "display_name": "Python 3",
   "language": "python",
   "name": "python3"
  },
  "language_info": {
   "codemirror_mode": {
    "name": "ipython",
    "version": 3
   },
   "file_extension": ".py",
   "mimetype": "text/x-python",
   "name": "python",
   "nbconvert_exporter": "python",
   "pygments_lexer": "ipython3",
   "version": "3.6.10"
  }
 },
 "nbformat": 4,
 "nbformat_minor": 4
}

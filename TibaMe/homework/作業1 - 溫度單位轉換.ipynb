{
 "cells": [
  {
   "cell_type": "markdown",
   "metadata": {},
   "source": [
    "# HW1 - 溫度單位轉換\n",
    "#### 【Python人工智慧實戰_2020-04-22】"
   ]
  },
  {
   "cell_type": "markdown",
   "metadata": {},
   "source": [
    "### Please do temperature conversion. Given a Celsius temperature, please change it to Fahrenheit"
   ]
  },
  {
   "cell_type": "code",
   "execution_count": 1,
   "metadata": {},
   "outputs": [
    {
     "name": "stdout",
     "output_type": "stream",
     "text": [
      "Please input celsius temperature:0\n",
      "celsius is: 0\n",
      "fahrenheit is 32.0\n"
     ]
    }
   ],
   "source": [
    "c = int(input('Please input celsius temperature:'))\n",
    "print('celsius is: ', end='')\n",
    "print(c)\n",
    "\n",
    "## write your code here\n",
    "f = (c * 9/5) + 32 \n",
    "print('fahrenheit is {}'.format(f))"
   ]
  }
 ],
 "metadata": {
  "kernelspec": {
   "display_name": "Python 3",
   "language": "python",
   "name": "python3"
  },
  "language_info": {
   "codemirror_mode": {
    "name": "ipython",
    "version": 3
   },
   "file_extension": ".py",
   "mimetype": "text/x-python",
   "name": "python",
   "nbconvert_exporter": "python",
   "pygments_lexer": "ipython3",
   "version": "3.7.6"
  }
 },
 "nbformat": 4,
 "nbformat_minor": 4
}
